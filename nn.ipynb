{
 "cells": [
  {
   "cell_type": "code",
   "execution_count": 2,
   "id": "0ba996c3-5e1c-47f4-aab3-7d66fcdd8385",
   "metadata": {},
   "outputs": [],
   "source": [
    "import pandas as pd\n",
    "from sklearn.model_selection import train_test_split\n",
    "from sklearn.preprocessing import StandardScaler\n",
    "from sklearn.metrics import accuracy_score\n",
    "import tensorflow as tf\n",
    "from tensorflow.keras.models import Sequential\n",
    "from tensorflow.keras.layers import Dense"
   ]
  },
  {
   "cell_type": "code",
   "execution_count": 3,
   "id": "dcb596e7-26fa-4a74-b0ad-250589fe6c73",
   "metadata": {},
   "outputs": [
    {
     "data": {
      "text/html": [
       "<div>\n",
       "<style scoped>\n",
       "    .dataframe tbody tr th:only-of-type {\n",
       "        vertical-align: middle;\n",
       "    }\n",
       "\n",
       "    .dataframe tbody tr th {\n",
       "        vertical-align: top;\n",
       "    }\n",
       "\n",
       "    .dataframe thead th {\n",
       "        text-align: right;\n",
       "    }\n",
       "</style>\n",
       "<table border=\"1\" class=\"dataframe\">\n",
       "  <thead>\n",
       "    <tr style=\"text-align: right;\">\n",
       "      <th></th>\n",
       "      <th>pregnant</th>\n",
       "      <th>glucose</th>\n",
       "      <th>diastolic</th>\n",
       "      <th>triceps</th>\n",
       "      <th>insulin</th>\n",
       "      <th>bmi</th>\n",
       "      <th>pedigree</th>\n",
       "      <th>age</th>\n",
       "      <th>diabetes</th>\n",
       "    </tr>\n",
       "  </thead>\n",
       "  <tbody>\n",
       "    <tr>\n",
       "      <th>0</th>\n",
       "      <td>6</td>\n",
       "      <td>148</td>\n",
       "      <td>72</td>\n",
       "      <td>35</td>\n",
       "      <td>0</td>\n",
       "      <td>33.6</td>\n",
       "      <td>0.627</td>\n",
       "      <td>50</td>\n",
       "      <td>1</td>\n",
       "    </tr>\n",
       "    <tr>\n",
       "      <th>1</th>\n",
       "      <td>1</td>\n",
       "      <td>85</td>\n",
       "      <td>66</td>\n",
       "      <td>29</td>\n",
       "      <td>0</td>\n",
       "      <td>26.6</td>\n",
       "      <td>0.351</td>\n",
       "      <td>31</td>\n",
       "      <td>0</td>\n",
       "    </tr>\n",
       "    <tr>\n",
       "      <th>2</th>\n",
       "      <td>8</td>\n",
       "      <td>183</td>\n",
       "      <td>64</td>\n",
       "      <td>0</td>\n",
       "      <td>0</td>\n",
       "      <td>23.3</td>\n",
       "      <td>0.672</td>\n",
       "      <td>32</td>\n",
       "      <td>1</td>\n",
       "    </tr>\n",
       "    <tr>\n",
       "      <th>3</th>\n",
       "      <td>1</td>\n",
       "      <td>89</td>\n",
       "      <td>66</td>\n",
       "      <td>23</td>\n",
       "      <td>94</td>\n",
       "      <td>28.1</td>\n",
       "      <td>0.167</td>\n",
       "      <td>21</td>\n",
       "      <td>0</td>\n",
       "    </tr>\n",
       "    <tr>\n",
       "      <th>4</th>\n",
       "      <td>0</td>\n",
       "      <td>137</td>\n",
       "      <td>40</td>\n",
       "      <td>35</td>\n",
       "      <td>168</td>\n",
       "      <td>43.1</td>\n",
       "      <td>2.288</td>\n",
       "      <td>33</td>\n",
       "      <td>1</td>\n",
       "    </tr>\n",
       "  </tbody>\n",
       "</table>\n",
       "</div>"
      ],
      "text/plain": [
       "   pregnant  glucose  diastolic  triceps  insulin   bmi  pedigree  age  \\\n",
       "0         6      148         72       35        0  33.6     0.627   50   \n",
       "1         1       85         66       29        0  26.6     0.351   31   \n",
       "2         8      183         64        0        0  23.3     0.672   32   \n",
       "3         1       89         66       23       94  28.1     0.167   21   \n",
       "4         0      137         40       35      168  43.1     2.288   33   \n",
       "\n",
       "   diabetes  \n",
       "0         1  \n",
       "1         0  \n",
       "2         1  \n",
       "3         0  \n",
       "4         1  "
      ]
     },
     "execution_count": 3,
     "metadata": {},
     "output_type": "execute_result"
    }
   ],
   "source": [
    "file_path = \"pima-indians-diabetes.csv\"\n",
    "\n",
    "df = pd.read_csv(file_path, skiprows=8, sep=',')\n",
    "\n",
    "df.head()"
   ]
  },
  {
   "cell_type": "code",
   "execution_count": 4,
   "id": "a733350f-4634-4060-a107-b04e24f46782",
   "metadata": {},
   "outputs": [],
   "source": [
    "df.fillna(df.mean(), inplace=True)"
   ]
  },
  {
   "cell_type": "code",
   "execution_count": 5,
   "id": "d804434d-476e-4ee3-97e0-a9a15faeec8e",
   "metadata": {},
   "outputs": [],
   "source": [
    "X = df.drop('diabetes', axis=1)  # Features\n",
    "y = df['diabetes']  # Target"
   ]
  },
  {
   "cell_type": "code",
   "execution_count": 6,
   "id": "73817605-aa3a-4717-8993-0ad0c64e4213",
   "metadata": {},
   "outputs": [],
   "source": [
    "X_train, X_test, y_train, y_test = train_test_split(X, y, test_size=0.2, random_state=42)\n"
   ]
  },
  {
   "cell_type": "code",
   "execution_count": 7,
   "id": "96439568-9971-411c-a8f8-fe07f7893cc3",
   "metadata": {},
   "outputs": [],
   "source": [
    "scaler = StandardScaler()\n",
    "X_train = scaler.fit_transform(X_train)\n",
    "X_test = scaler.transform(X_test)\n"
   ]
  },
  {
   "cell_type": "code",
   "execution_count": 8,
   "id": "b489223a-70f2-4481-9151-bb9e9556d917",
   "metadata": {},
   "outputs": [],
   "source": [
    "model = Sequential()\n",
    "model.add(Dense(8, input_dim=X_train.shape[1], activation='relu'))\n",
    "model.add(Dense(4, activation='relu'))\n",
    "model.add(Dense(1, activation='sigmoid'))\n"
   ]
  },
  {
   "cell_type": "code",
   "execution_count": 9,
   "id": "92f02f0b-5af0-4120-8791-84ce5ffe3fc9",
   "metadata": {},
   "outputs": [],
   "source": [
    "model.compile(loss='binary_crossentropy', optimizer='adam', metrics=['accuracy'])\n"
   ]
  },
  {
   "cell_type": "code",
   "execution_count": 10,
   "id": "ed7ab218-6c6d-4211-bbb8-81a968421a6b",
   "metadata": {},
   "outputs": [
    {
     "name": "stdout",
     "output_type": "stream",
     "text": [
      "Epoch 1/50\n",
      "16/16 [==============================] - 0s 8ms/step - loss: 0.6431 - accuracy: 0.6171 - val_loss: 0.6334 - val_accuracy: 0.6179\n",
      "Epoch 2/50\n",
      "16/16 [==============================] - 0s 2ms/step - loss: 0.6261 - accuracy: 0.6599 - val_loss: 0.6188 - val_accuracy: 0.6829\n",
      "Epoch 3/50\n",
      "16/16 [==============================] - 0s 2ms/step - loss: 0.6108 - accuracy: 0.6986 - val_loss: 0.6053 - val_accuracy: 0.6829\n",
      "Epoch 4/50\n",
      "16/16 [==============================] - 0s 2ms/step - loss: 0.5965 - accuracy: 0.7169 - val_loss: 0.5921 - val_accuracy: 0.6992\n",
      "Epoch 5/50\n",
      "16/16 [==============================] - 0s 2ms/step - loss: 0.5843 - accuracy: 0.7230 - val_loss: 0.5791 - val_accuracy: 0.7236\n",
      "Epoch 6/50\n",
      "16/16 [==============================] - 0s 2ms/step - loss: 0.5722 - accuracy: 0.7291 - val_loss: 0.5679 - val_accuracy: 0.7398\n",
      "Epoch 7/50\n",
      "16/16 [==============================] - 0s 2ms/step - loss: 0.5614 - accuracy: 0.7393 - val_loss: 0.5566 - val_accuracy: 0.7480\n",
      "Epoch 8/50\n",
      "16/16 [==============================] - 0s 2ms/step - loss: 0.5509 - accuracy: 0.7454 - val_loss: 0.5478 - val_accuracy: 0.7317\n",
      "Epoch 9/50\n",
      "16/16 [==============================] - 0s 2ms/step - loss: 0.5421 - accuracy: 0.7536 - val_loss: 0.5392 - val_accuracy: 0.7398\n",
      "Epoch 10/50\n",
      "16/16 [==============================] - 0s 2ms/step - loss: 0.5332 - accuracy: 0.7576 - val_loss: 0.5307 - val_accuracy: 0.7480\n",
      "Epoch 11/50\n",
      "16/16 [==============================] - 0s 2ms/step - loss: 0.5246 - accuracy: 0.7637 - val_loss: 0.5229 - val_accuracy: 0.7480\n",
      "Epoch 12/50\n",
      "16/16 [==============================] - 0s 2ms/step - loss: 0.5167 - accuracy: 0.7678 - val_loss: 0.5156 - val_accuracy: 0.7480\n",
      "Epoch 13/50\n",
      "16/16 [==============================] - 0s 2ms/step - loss: 0.5080 - accuracy: 0.7678 - val_loss: 0.5094 - val_accuracy: 0.7398\n",
      "Epoch 14/50\n",
      "16/16 [==============================] - 0s 2ms/step - loss: 0.5011 - accuracy: 0.7719 - val_loss: 0.5023 - val_accuracy: 0.7398\n",
      "Epoch 15/50\n",
      "16/16 [==============================] - 0s 2ms/step - loss: 0.4940 - accuracy: 0.7658 - val_loss: 0.4970 - val_accuracy: 0.7317\n",
      "Epoch 16/50\n",
      "16/16 [==============================] - 0s 2ms/step - loss: 0.4880 - accuracy: 0.7658 - val_loss: 0.4942 - val_accuracy: 0.7236\n",
      "Epoch 17/50\n",
      "16/16 [==============================] - 0s 2ms/step - loss: 0.4839 - accuracy: 0.7637 - val_loss: 0.4905 - val_accuracy: 0.7236\n",
      "Epoch 18/50\n",
      "16/16 [==============================] - 0s 2ms/step - loss: 0.4798 - accuracy: 0.7617 - val_loss: 0.4867 - val_accuracy: 0.7236\n",
      "Epoch 19/50\n",
      "16/16 [==============================] - 0s 2ms/step - loss: 0.4763 - accuracy: 0.7658 - val_loss: 0.4839 - val_accuracy: 0.7236\n",
      "Epoch 20/50\n",
      "16/16 [==============================] - 0s 2ms/step - loss: 0.4735 - accuracy: 0.7637 - val_loss: 0.4799 - val_accuracy: 0.7398\n",
      "Epoch 21/50\n",
      "16/16 [==============================] - 0s 2ms/step - loss: 0.4705 - accuracy: 0.7658 - val_loss: 0.4784 - val_accuracy: 0.7398\n",
      "Epoch 22/50\n",
      "16/16 [==============================] - 0s 2ms/step - loss: 0.4682 - accuracy: 0.7699 - val_loss: 0.4753 - val_accuracy: 0.7480\n",
      "Epoch 23/50\n",
      "16/16 [==============================] - 0s 2ms/step - loss: 0.4659 - accuracy: 0.7719 - val_loss: 0.4732 - val_accuracy: 0.7480\n",
      "Epoch 24/50\n",
      "16/16 [==============================] - 0s 2ms/step - loss: 0.4637 - accuracy: 0.7739 - val_loss: 0.4719 - val_accuracy: 0.7480\n",
      "Epoch 25/50\n",
      "16/16 [==============================] - 0s 2ms/step - loss: 0.4618 - accuracy: 0.7719 - val_loss: 0.4706 - val_accuracy: 0.7398\n",
      "Epoch 26/50\n",
      "16/16 [==============================] - 0s 2ms/step - loss: 0.4601 - accuracy: 0.7760 - val_loss: 0.4693 - val_accuracy: 0.7398\n",
      "Epoch 27/50\n",
      "16/16 [==============================] - 0s 2ms/step - loss: 0.4586 - accuracy: 0.7760 - val_loss: 0.4679 - val_accuracy: 0.7236\n",
      "Epoch 28/50\n",
      "16/16 [==============================] - 0s 2ms/step - loss: 0.4575 - accuracy: 0.7821 - val_loss: 0.4671 - val_accuracy: 0.7236\n",
      "Epoch 29/50\n",
      "16/16 [==============================] - 0s 2ms/step - loss: 0.4562 - accuracy: 0.7821 - val_loss: 0.4672 - val_accuracy: 0.7236\n",
      "Epoch 30/50\n",
      "16/16 [==============================] - 0s 2ms/step - loss: 0.4556 - accuracy: 0.7780 - val_loss: 0.4678 - val_accuracy: 0.7236\n",
      "Epoch 31/50\n",
      "16/16 [==============================] - 0s 2ms/step - loss: 0.4543 - accuracy: 0.7800 - val_loss: 0.4662 - val_accuracy: 0.7317\n",
      "Epoch 32/50\n",
      "16/16 [==============================] - 0s 2ms/step - loss: 0.4535 - accuracy: 0.7821 - val_loss: 0.4666 - val_accuracy: 0.7236\n",
      "Epoch 33/50\n",
      "16/16 [==============================] - 0s 2ms/step - loss: 0.4527 - accuracy: 0.7800 - val_loss: 0.4660 - val_accuracy: 0.7317\n",
      "Epoch 34/50\n",
      "16/16 [==============================] - 0s 2ms/step - loss: 0.4520 - accuracy: 0.7780 - val_loss: 0.4650 - val_accuracy: 0.7317\n",
      "Epoch 35/50\n",
      "16/16 [==============================] - 0s 2ms/step - loss: 0.4512 - accuracy: 0.7821 - val_loss: 0.4654 - val_accuracy: 0.7317\n",
      "Epoch 36/50\n",
      "16/16 [==============================] - 0s 2ms/step - loss: 0.4506 - accuracy: 0.7800 - val_loss: 0.4654 - val_accuracy: 0.7317\n",
      "Epoch 37/50\n",
      "16/16 [==============================] - 0s 2ms/step - loss: 0.4501 - accuracy: 0.7821 - val_loss: 0.4645 - val_accuracy: 0.7398\n",
      "Epoch 38/50\n",
      "16/16 [==============================] - 0s 2ms/step - loss: 0.4496 - accuracy: 0.7821 - val_loss: 0.4654 - val_accuracy: 0.7236\n",
      "Epoch 39/50\n",
      "16/16 [==============================] - 0s 2ms/step - loss: 0.4489 - accuracy: 0.7821 - val_loss: 0.4645 - val_accuracy: 0.7398\n",
      "Epoch 40/50\n",
      "16/16 [==============================] - 0s 2ms/step - loss: 0.4483 - accuracy: 0.7800 - val_loss: 0.4642 - val_accuracy: 0.7398\n",
      "Epoch 41/50\n",
      "16/16 [==============================] - 0s 2ms/step - loss: 0.4479 - accuracy: 0.7800 - val_loss: 0.4636 - val_accuracy: 0.7398\n",
      "Epoch 42/50\n",
      "16/16 [==============================] - 0s 2ms/step - loss: 0.4471 - accuracy: 0.7800 - val_loss: 0.4641 - val_accuracy: 0.7480\n",
      "Epoch 43/50\n",
      "16/16 [==============================] - 0s 2ms/step - loss: 0.4469 - accuracy: 0.7800 - val_loss: 0.4634 - val_accuracy: 0.7317\n",
      "Epoch 44/50\n",
      "16/16 [==============================] - 0s 2ms/step - loss: 0.4461 - accuracy: 0.7821 - val_loss: 0.4637 - val_accuracy: 0.7317\n",
      "Epoch 45/50\n",
      "16/16 [==============================] - 0s 2ms/step - loss: 0.4456 - accuracy: 0.7821 - val_loss: 0.4633 - val_accuracy: 0.7317\n",
      "Epoch 46/50\n",
      "16/16 [==============================] - 0s 2ms/step - loss: 0.4451 - accuracy: 0.7821 - val_loss: 0.4633 - val_accuracy: 0.7398\n",
      "Epoch 47/50\n",
      "16/16 [==============================] - 0s 2ms/step - loss: 0.4445 - accuracy: 0.7800 - val_loss: 0.4631 - val_accuracy: 0.7480\n",
      "Epoch 48/50\n",
      "16/16 [==============================] - 0s 2ms/step - loss: 0.4446 - accuracy: 0.7821 - val_loss: 0.4629 - val_accuracy: 0.7480\n",
      "Epoch 49/50\n",
      "16/16 [==============================] - 0s 2ms/step - loss: 0.4439 - accuracy: 0.7800 - val_loss: 0.4635 - val_accuracy: 0.7480\n",
      "Epoch 50/50\n",
      "16/16 [==============================] - 0s 2ms/step - loss: 0.4436 - accuracy: 0.7800 - val_loss: 0.4632 - val_accuracy: 0.7480\n"
     ]
    },
    {
     "data": {
      "text/plain": [
       "<keras.src.callbacks.History at 0x2893e32e0>"
      ]
     },
     "execution_count": 10,
     "metadata": {},
     "output_type": "execute_result"
    }
   ],
   "source": [
    "model.fit(X_train, y_train, epochs=50, batch_size=32, validation_split=0.2)"
   ]
  },
  {
   "cell_type": "code",
   "execution_count": 11,
   "id": "1b48b6c4-3269-4a02-81d2-32755a6b61b2",
   "metadata": {},
   "outputs": [
    {
     "name": "stdout",
     "output_type": "stream",
     "text": [
      "5/5 [==============================] - 0s 793us/step\n",
      "Accuracy on the test set: 0.7272727272727273\n"
     ]
    }
   ],
   "source": [
    "y_pred = model.predict(X_test)\n",
    "y_pred_binary = [1 if pred >= 0.5 else 0 for pred in y_pred]\n",
    "accuracy = accuracy_score(y_test, y_pred_binary)\n",
    "print(f\"Accuracy on the test set: {accuracy}\")"
   ]
  },
  {
   "cell_type": "code",
   "execution_count": 16,
   "id": "1d177e66-aa3f-47a5-8403-a3e5d7c053e8",
   "metadata": {},
   "outputs": [
    {
     "name": "stdout",
     "output_type": "stream",
     "text": [
      "1/1 [==============================] - 0s 16ms/step\n",
      "The predicted class for the new data is: 0\n"
     ]
    }
   ],
   "source": [
    "new_data = pd.Series({'pregnant': 3, 'glucose': 74, 'diastolic': 68, \n",
    "                      'triceps': 28, 'insulin': 45, 'bmi': 29.7, \n",
    "                      'pedigree': 0.293, 'age': 23})\n",
    "\n",
    "new_data_df = pd.DataFrame([new_data])\n",
    "\n",
    "new_data_scaled = scaler.transform(new_data_df)\n",
    "\n",
    "prediction = model.predict(new_data_scaled)\n",
    "\n",
    "predicted_class = 1 if prediction >= 0.5 else 0\n",
    "\n",
    "print(f\"The predicted class for the new data is: {predicted_class}\")\n"
   ]
  },
  {
   "cell_type": "code",
   "execution_count": 17,
   "id": "f4e41b79-a8d0-498b-8731-6d0909a5b626",
   "metadata": {},
   "outputs": [
    {
     "name": "stdout",
     "output_type": "stream",
     "text": [
      "1/1 [==============================] - 0s 16ms/step\n",
      "The predicted class for the new data is: 1\n"
     ]
    }
   ],
   "source": [
    "new_data = pd.Series({'pregnant': 4, 'glucose': 171, 'diastolic': 72, \n",
    "                      'triceps': 0, 'insulin': 0, 'bmi': 43.6, \n",
    "                      'pedigree': 0.479, 'age': 26})\n",
    "\n",
    "\n",
    "new_data_df = pd.DataFrame([new_data])\n",
    "\n",
    "new_data_scaled = scaler.transform(new_data_df)\n",
    "\n",
    "prediction = model.predict(new_data_scaled)\n",
    "\n",
    "predicted_class = 1 if prediction >= 0.5 else 0\n",
    "\n",
    "print(f\"The predicted class for the new data is: {predicted_class}\")\n"
   ]
  }
 ],
 "metadata": {
  "kernelspec": {
   "display_name": "Python 3 (ipykernel)",
   "language": "python",
   "name": "python3"
  },
  "language_info": {
   "codemirror_mode": {
    "name": "ipython",
    "version": 3
   },
   "file_extension": ".py",
   "mimetype": "text/x-python",
   "name": "python",
   "nbconvert_exporter": "python",
   "pygments_lexer": "ipython3",
   "version": "3.10.4"
  }
 },
 "nbformat": 4,
 "nbformat_minor": 5
}
